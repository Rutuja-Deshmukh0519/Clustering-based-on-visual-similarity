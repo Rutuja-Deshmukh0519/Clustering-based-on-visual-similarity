{
 "cells": [
  {
   "cell_type": "code",
   "execution_count": 1,
   "id": "feb1f93c",
   "metadata": {},
   "outputs": [
    {
     "name": "stdout",
     "output_type": "stream",
     "text": [
      "Total Time required for execution:  129.10293674468994\n"
     ]
    }
   ],
   "source": [
    "import os\n",
    "import numpy as np\n",
    "import matplotlib.pyplot as plt\n",
    "from skimage import io  \n",
    "from sklearn.decomposition import PCA\n",
    "import glob \n",
    "import time\n",
    "import xlsxwriter\n",
    "import math \n",
    "\n",
    "start_total = time.time()\n",
    "i = 0\n",
    "\n",
    "os.mkdir('D:/trial/OUTPUT/pca') \n",
    "path = \"D:/trial/OUTPUT/resized/*.jpeg*\"\n",
    "for image in glob.glob(path):\n",
    "    img = io.imread(image)\n",
    "    img = img.astype(np.uint8)\n",
    "#    print(img.shape)\n",
    "#    plt.imshow(img, cmap=\"gray\") \n",
    "    \n",
    "    fit_pca = PCA(n_components=60).fit(img)  # approx 98.143%(1), 96.61%(2) information in an image [PC1 greater, more info]\n",
    "    \n",
    "    transformed = fit_pca.transform(img)\n",
    "    \n",
    "    projected = fit_pca.inverse_transform(transformed)\n",
    "    projected = projected.astype(np.uint8)\n",
    "#     print(transformed.shape)\n",
    "#     plt.imshow(projected, cmap=\"gray\")\n",
    "    io.imsave(\"D:/trial/OUTPUT/pca/image%05i.jpeg\" %i, projected)\n",
    "    i += 1 \n",
    "    \n",
    "end = time.time()\n",
    "total_time = end - start_total\n",
    "\n",
    "print(\"Total Time required for execution: \", total_time)\n"
   ]
  },
  {
   "cell_type": "markdown",
   "id": "c6912620",
   "metadata": {},
   "source": [
    "# Removing Salt and Pepper Noise using Median Filter"
   ]
  },
  {
   "cell_type": "code",
   "execution_count": 10,
   "id": "7b562c90",
   "metadata": {},
   "outputs": [
    {
     "name": "stdout",
     "output_type": "stream",
     "text": [
      "Noise Removal Done!!\n"
     ]
    }
   ],
   "source": [
    "import cv2\n",
    "\n",
    "os.mkdir('D:/trial/OUTPUT/noise-removed-pca') \n",
    "path1 = \"D:/trial/OUTPUT/pca/*.jpeg*\"\n",
    "\n",
    "for image in glob.glob(path1):\n",
    "    img = cv2.imread(image)\n",
    "    median = cv2.medianBlur(img, 5)\n",
    "    io.imsave(\"D:/trial/OUTPUT/noise-removed-pca/image%05i.jpeg\" %i, median)\n",
    "    i += 1 \n",
    "    \n",
    "print(\"Noise Removal Done!!\")\n",
    "#     compare = np.concatenate((img, median), axis=1) #side by side comparison\n",
    "\n",
    "#     cv2.imshow('img', compare)\n",
    "#     cv2.waitKey(0)\n",
    "#     cv2.destroyAllWindows"
   ]
  },
  {
   "cell_type": "code",
   "execution_count": null,
   "id": "a623113f",
   "metadata": {},
   "outputs": [],
   "source": []
  }
 ],
 "metadata": {
  "kernelspec": {
   "display_name": "Python 3",
   "language": "python",
   "name": "python3"
  },
  "language_info": {
   "codemirror_mode": {
    "name": "ipython",
    "version": 3
   },
   "file_extension": ".py",
   "mimetype": "text/x-python",
   "name": "python",
   "nbconvert_exporter": "python",
   "pygments_lexer": "ipython3",
   "version": "3.8.8"
  }
 },
 "nbformat": 4,
 "nbformat_minor": 5
}
