{
 "cells": [
  {
   "cell_type": "code",
   "execution_count": 1,
   "id": "afb4a2a4",
   "metadata": {},
   "outputs": [
    {
     "name": "stdout",
     "output_type": "stream",
     "text": [
      "Resizing Done!\n"
     ]
    }
   ],
   "source": [
    "import os\n",
    "import glob\n",
    "from skimage import io,img_as_ubyte    \n",
    "from skimage.transform import resize\n",
    "\n",
    "i = 0\n",
    "os.mkdir('D:/trial/OUTPUT/resized') \n",
    "path = \"D:/trial/dataset/*.jpeg*\"\n",
    "for image in glob.glob(path):\n",
    "    \n",
    "    # Reading image as grey(numpy array of flaot64)\n",
    "    grey_img = io.imread(image,as_gray=True)    # grayscaling\n",
    "    \n",
    "    # print(grey_img.shape) print -> (y,x,c)->(height,width,no_of_channels)\n",
    "    \n",
    "    # Resizing to (256,256)\n",
    "    img_resized = resize(grey_img,(224,224),anti_aliasing=False)    # resizing\n",
    "    \n",
    "    #converting float64 numpy array to uint8\n",
    "    img_8bit = img_as_ubyte(img_resized) \n",
    "    \n",
    "    io.imsave(\"D:/trial/OUTPUT/resized/image%05i.jpeg\" %i, img_8bit)\n",
    "    i += 1\n",
    "    \n",
    "print(\"Resizing Done!\")"
   ]
  },
  {
   "cell_type": "code",
   "execution_count": null,
   "id": "4897dbbc",
   "metadata": {},
   "outputs": [],
   "source": []
  }
 ],
 "metadata": {
  "kernelspec": {
   "display_name": "Python 3",
   "language": "python",
   "name": "python3"
  },
  "language_info": {
   "codemirror_mode": {
    "name": "ipython",
    "version": 3
   },
   "file_extension": ".py",
   "mimetype": "text/x-python",
   "name": "python",
   "nbconvert_exporter": "python",
   "pygments_lexer": "ipython3",
   "version": "3.8.8"
  }
 },
 "nbformat": 4,
 "nbformat_minor": 5
}
